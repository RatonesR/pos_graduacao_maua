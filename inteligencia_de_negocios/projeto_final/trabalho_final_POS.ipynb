{
  "nbformat": 4,
  "nbformat_minor": 0,
  "metadata": {
    "colab": {
      "provenance": []
    },
    "kernelspec": {
      "name": "python3",
      "display_name": "Python 3"
    },
    "language_info": {
      "name": "python"
    }
  },
  "cells": [
    {
      "cell_type": "markdown",
      "metadata": {
        "id": "Ip-ln7NoTna0"
      },
      "source": [
        "# Carga dados petmar Big Query (BQ)"
      ]
    },
    {
      "cell_type": "markdown",
      "metadata": {
        "id": "amL0aL-QT3X4"
      },
      "source": [
        "## Carregar módulos"
      ]
    },
    {
      "cell_type": "code",
      "metadata": {
        "id": "kxNNVOHXH5o_"
      },
      "source": [
        "from google.colab import auth\n",
        "from google.cloud import bigquery"
      ],
      "execution_count": null,
      "outputs": []
    },
    {
      "cell_type": "code",
      "metadata": {
        "id": "dy4tAdLXT3c3"
      },
      "source": [
        "import numpy as np\n",
        "import pandas as pd\n",
        "import os\n",
        "import requests\n",
        "import glob"
      ],
      "execution_count": null,
      "outputs": []
    },
    {
      "cell_type": "markdown",
      "metadata": {
        "id": "-ZOPTbgCNd5p"
      },
      "source": [
        "## Autenticar projeto"
      ]
    },
    {
      "cell_type": "code",
      "metadata": {
        "id": "BumfldPfNd_c"
      },
      "source": [
        "auth.authenticate_user()"
      ],
      "execution_count": null,
      "outputs": []
    },
    {
      "cell_type": "code",
      "metadata": {
        "id": "jlnUxYzANeDs"
      },
      "source": [
        "project_id = 'projetointeligencianegocios'"
      ],
      "execution_count": null,
      "outputs": []
    },
    {
      "cell_type": "code",
      "metadata": {
        "id": "vlFXtHbcNlcn"
      },
      "source": [
        "client = bigquery.Client(project=project_id)"
      ],
      "execution_count": null,
      "outputs": []
    },
    {
      "cell_type": "markdown",
      "metadata": {
        "id": "-4a8IgMBT3gr"
      },
      "source": [
        "## Carregar dados"
      ]
    },
    {
      "cell_type": "markdown",
      "metadata": {
        "id": "VnfWrvXjQ-ZU"
      },
      "source": [
        "- Dados vendas petmar - automatizado"
      ]
    },
    {
      "cell_type": "code",
      "source": [
        "url = 'https://api.github.com/repos/RatonesR/pos_graduacao_maua/contents/inteligencia_de_negocios/projeto_final'\n",
        "lista_de_arquivos = requests.get(url).json()\n",
        "\n",
        "for arquivo in lista_de_arquivos:\n",
        "    nome_do_arquivo = arquivo['name']\n",
        "    url_para_baixar = arquivo['download_url']\n",
        "    comando = f\"wget --no-check-certificate --content-disposition '{url_para_baixar}'\"\n",
        "    os.system(comando)"
      ],
      "metadata": {
        "id": "bgDgxj-quoqk"
      },
      "execution_count": null,
      "outputs": []
    },
    {
      "cell_type": "code",
      "source": [
        "padrao_do_arquivo = 'petmar_*.csv'\n",
        "lista_de_arquivos_encontrados = glob.glob(padrao_do_arquivo)\n",
        "lista_de_dataframes = []\n",
        "\n",
        "for nome_arquivo in lista_de_arquivos_encontrados:\n",
        "    df_temporario = pd.read_csv(nome_arquivo, sep=';')\n",
        "    lista_de_dataframes.append(df_temporario)\n",
        "\n",
        "print(lista_de_arquivos_encontrados)\n",
        "\n",
        "dados_petmar_consolidado = pd.concat(lista_de_dataframes, ignore_index=True)"
      ],
      "metadata": {
        "colab": {
          "base_uri": "https://localhost:8080/"
        },
        "id": "vAYThK8_9Lor",
        "outputId": "47a76ac3-7e56-430f-bbaa-4fbfcad7d673"
      },
      "execution_count": null,
      "outputs": [
        {
          "output_type": "stream",
          "name": "stdout",
          "text": [
            "['petmar_22.csv', 'petmar_24.csv', 'petmar_23.csv']\n"
          ]
        }
      ]
    },
    {
      "cell_type": "markdown",
      "source": [
        "- Dados vendas petmar - não automatizado"
      ],
      "metadata": {
        "id": "4r_VDLoTGX23"
      }
    },
    {
      "cell_type": "code",
      "metadata": {
        "id": "bfb7qKtta_8T"
      },
      "source": [
        "# ! wget --no-check-certificate --content-disposition 'https://raw.githubusercontent.com/RatonesR/pos_graduacao_maua/refs/heads/main/inteligencia_de_negocios/projeto_final/petmar_22.csv'\n",
        "# ! wget --no-check-certificate --content-disposition 'https://raw.githubusercontent.com/RatonesR/pos_graduacao_maua/refs/heads/main/inteligencia_de_negocios/projeto_final/petmar_23.csv'\n",
        "# ! wget --no-check-certificate --content-disposition 'https://raw.githubusercontent.com/RatonesR/pos_graduacao_maua/refs/heads/main/inteligencia_de_negocios/projeto_final/petmar_24.csv'"
      ],
      "execution_count": null,
      "outputs": []
    },
    {
      "cell_type": "code",
      "metadata": {
        "id": "GWy73yd4aadf"
      },
      "source": [
        "# dados_petmar22 = pd.read_csv('petmar_22.csv', sep=';')\n",
        "# dados_petmar23 = pd.read_csv('petmar_23.csv', sep=';')\n",
        "# dados_petmar24 = pd.read_csv('petmar_24.csv', sep=';')"
      ],
      "execution_count": null,
      "outputs": []
    },
    {
      "cell_type": "code",
      "source": [
        "# dados_petmar_consolidado = pd.concat([dados_petmar22, dados_petmar23, dados_petmar24])"
      ],
      "metadata": {
        "id": "ZGq9RIgtGV0r"
      },
      "execution_count": null,
      "outputs": []
    },
    {
      "cell_type": "markdown",
      "metadata": {
        "id": "WltBdBdIYGHG"
      },
      "source": [
        "## Ajustar dados"
      ]
    },
    {
      "cell_type": "code",
      "source": [
        "cols = dados_petmar_consolidado.columns.tolist()"
      ],
      "metadata": {
        "id": "qHGxAV3EqTu2"
      },
      "execution_count": null,
      "outputs": []
    },
    {
      "cell_type": "code",
      "source": [
        "dados_petmar_consolidado = dados_petmar_consolidado[cols].reset_index(drop=True)"
      ],
      "metadata": {
        "id": "I0qq1Gemp7Le"
      },
      "execution_count": null,
      "outputs": []
    },
    {
      "cell_type": "code",
      "source": [
        "dados_petmar_consolidado = dados_petmar_consolidado.dropna(how='all')"
      ],
      "metadata": {
        "id": "7ePMSphzG9Gr"
      },
      "execution_count": null,
      "outputs": []
    },
    {
      "cell_type": "code",
      "source": [
        "for coluna in dados_petmar_consolidado.columns:\n",
        "    if dados_petmar_consolidado[coluna].dtype == 'object':\n",
        "        dados_petmar_consolidado[coluna] = dados_petmar_consolidado[coluna].astype(str)"
      ],
      "metadata": {
        "id": "9mXLpW6SLcMn"
      },
      "execution_count": null,
      "outputs": []
    },
    {
      "cell_type": "markdown",
      "source": [
        "## Verificando conformidade"
      ],
      "metadata": {
        "id": "7NzlChAGJwZ4"
      }
    },
    {
      "cell_type": "code",
      "source": [
        "print(dados_petmar_consolidado.isnull().sum())"
      ],
      "metadata": {
        "colab": {
          "base_uri": "https://localhost:8080/"
        },
        "id": "47r0CQvrIxR4",
        "outputId": "ca453518-fc5c-4fd4-d2f4-a4306c9e9969"
      },
      "execution_count": null,
      "outputs": [
        {
          "output_type": "stream",
          "name": "stdout",
          "text": [
            "cod_empresa          0\n",
            "cnpj_distribuidor    0\n",
            "cod_produto          0\n",
            "nom_produto          0\n",
            "familia              0\n",
            "ean                  0\n",
            "volume               0\n",
            "valor                0\n",
            "nota_fiscal          0\n",
            "dt_venda             0\n",
            "ano                  0\n",
            "mes                  0\n",
            "tipo_venda           0\n",
            "cnpj_cliente         0\n",
            "cep_cliente          0\n",
            "cidade_cliente       0\n",
            "nom_uf               0\n",
            "nom_razao            0\n",
            "nom_bairro           0\n",
            "nom_vendedor         0\n",
            "dtype: int64\n"
          ]
        }
      ]
    },
    {
      "cell_type": "code",
      "source": [
        "dados_petmar_consolidado.dtypes"
      ],
      "metadata": {
        "colab": {
          "base_uri": "https://localhost:8080/",
          "height": 711
        },
        "id": "ATJA59yNJFhn",
        "outputId": "74644ee7-430b-4c7f-efb2-526746614aab"
      },
      "execution_count": null,
      "outputs": [
        {
          "output_type": "execute_result",
          "data": {
            "text/plain": [
              "cod_empresa          object\n",
              "cnpj_distribuidor    object\n",
              "cod_produto           int64\n",
              "nom_produto          object\n",
              "familia              object\n",
              "ean                  object\n",
              "volume                int64\n",
              "valor                 int64\n",
              "nota_fiscal          object\n",
              "dt_venda             object\n",
              "ano                   int64\n",
              "mes                   int64\n",
              "tipo_venda           object\n",
              "cnpj_cliente         object\n",
              "cep_cliente           int64\n",
              "cidade_cliente       object\n",
              "nom_uf               object\n",
              "nom_razao            object\n",
              "nom_bairro           object\n",
              "nom_vendedor         object\n",
              "dtype: object"
            ],
            "text/html": [
              "<div>\n",
              "<style scoped>\n",
              "    .dataframe tbody tr th:only-of-type {\n",
              "        vertical-align: middle;\n",
              "    }\n",
              "\n",
              "    .dataframe tbody tr th {\n",
              "        vertical-align: top;\n",
              "    }\n",
              "\n",
              "    .dataframe thead th {\n",
              "        text-align: right;\n",
              "    }\n",
              "</style>\n",
              "<table border=\"1\" class=\"dataframe\">\n",
              "  <thead>\n",
              "    <tr style=\"text-align: right;\">\n",
              "      <th></th>\n",
              "      <th>0</th>\n",
              "    </tr>\n",
              "  </thead>\n",
              "  <tbody>\n",
              "    <tr>\n",
              "      <th>cod_empresa</th>\n",
              "      <td>object</td>\n",
              "    </tr>\n",
              "    <tr>\n",
              "      <th>cnpj_distribuidor</th>\n",
              "      <td>object</td>\n",
              "    </tr>\n",
              "    <tr>\n",
              "      <th>cod_produto</th>\n",
              "      <td>int64</td>\n",
              "    </tr>\n",
              "    <tr>\n",
              "      <th>nom_produto</th>\n",
              "      <td>object</td>\n",
              "    </tr>\n",
              "    <tr>\n",
              "      <th>familia</th>\n",
              "      <td>object</td>\n",
              "    </tr>\n",
              "    <tr>\n",
              "      <th>ean</th>\n",
              "      <td>object</td>\n",
              "    </tr>\n",
              "    <tr>\n",
              "      <th>volume</th>\n",
              "      <td>int64</td>\n",
              "    </tr>\n",
              "    <tr>\n",
              "      <th>valor</th>\n",
              "      <td>int64</td>\n",
              "    </tr>\n",
              "    <tr>\n",
              "      <th>nota_fiscal</th>\n",
              "      <td>object</td>\n",
              "    </tr>\n",
              "    <tr>\n",
              "      <th>dt_venda</th>\n",
              "      <td>object</td>\n",
              "    </tr>\n",
              "    <tr>\n",
              "      <th>ano</th>\n",
              "      <td>int64</td>\n",
              "    </tr>\n",
              "    <tr>\n",
              "      <th>mes</th>\n",
              "      <td>int64</td>\n",
              "    </tr>\n",
              "    <tr>\n",
              "      <th>tipo_venda</th>\n",
              "      <td>object</td>\n",
              "    </tr>\n",
              "    <tr>\n",
              "      <th>cnpj_cliente</th>\n",
              "      <td>object</td>\n",
              "    </tr>\n",
              "    <tr>\n",
              "      <th>cep_cliente</th>\n",
              "      <td>int64</td>\n",
              "    </tr>\n",
              "    <tr>\n",
              "      <th>cidade_cliente</th>\n",
              "      <td>object</td>\n",
              "    </tr>\n",
              "    <tr>\n",
              "      <th>nom_uf</th>\n",
              "      <td>object</td>\n",
              "    </tr>\n",
              "    <tr>\n",
              "      <th>nom_razao</th>\n",
              "      <td>object</td>\n",
              "    </tr>\n",
              "    <tr>\n",
              "      <th>nom_bairro</th>\n",
              "      <td>object</td>\n",
              "    </tr>\n",
              "    <tr>\n",
              "      <th>nom_vendedor</th>\n",
              "      <td>object</td>\n",
              "    </tr>\n",
              "  </tbody>\n",
              "</table>\n",
              "</div><br><label><b>dtype:</b> object</label>"
            ]
          },
          "metadata": {},
          "execution_count": 14
        }
      ]
    },
    {
      "cell_type": "code",
      "source": [
        "dados_petmar_consolidado.head()"
      ],
      "metadata": {
        "colab": {
          "base_uri": "https://localhost:8080/",
          "height": 486
        },
        "id": "iyQNaB6XJj68",
        "outputId": "119e57cf-3831-4418-e2fd-3023aba4e87d"
      },
      "execution_count": null,
      "outputs": [
        {
          "output_type": "execute_result",
          "data": {
            "text/plain": [
              "  cod_empresa cnpj_distribuidor  cod_produto  \\\n",
              "0      PETMAR       1,54094E+13         5063   \n",
              "1      PETMAR       1,54094E+13         5063   \n",
              "2      PETMAR       1,54094E+13         5063   \n",
              "3      PETMAR       1,54094E+13         5750   \n",
              "4      PETMAR       1,54094E+13         5750   \n",
              "\n",
              "                                  nom_produto familia          ean  volume  \\\n",
              "0                                Alizin 10 mL      CA  7,89752E+12       4   \n",
              "1                                Alizin 10 mL      CA  7,89752E+12       5   \n",
              "2                                Alizin 10 mL      CA  7,89752E+12       1   \n",
              "3  Allerderm Spot On S.I.S - 2 mL - 6 Pipetas      CA  7,89752E+12       1   \n",
              "4  Allerderm Spot On S.I.S - 2 mL - 6 Pipetas      CA  7,89752E+12       1   \n",
              "\n",
              "   valor nota_fiscal    dt_venda   ano  mes tipo_venda cnpj_cliente  \\\n",
              "0   1256  03/01/1970  01/06/2022  2022    6          V  59558881600   \n",
              "1   1258  03/01/1970  01/06/2022  2022    6          V  1,03637E+13   \n",
              "2    464  03/01/1970  07/06/2022  2022    6          V  4,19201E+13   \n",
              "3    161  02/01/1970  10/01/2022  2022    1          V  3,30608E+13   \n",
              "4    170  02/01/1970  10/01/2022  2022    1          V  1,13747E+13   \n",
              "\n",
              "   cep_cliente cidade_cliente nom_uf                             nom_razao  \\\n",
              "0     11013163         SANTOS     SP           SANDRO HENRIQUE DE CAMARGOS   \n",
              "1     12327692        JACAREI     SP              VENEZA PET COMERCIO LTDA   \n",
              "2     11740000       ITANHAEM     SP           MEGA PET SHOP ITANHAEM LTDA   \n",
              "3     11035160         SANTOS     SP  PETLAND PONTA DA PRAIA PET SHOP LTDA   \n",
              "4     11035170         SANTOS     SP                PET DA PONTA LTDA - ME   \n",
              "\n",
              "           nom_bairro                nom_vendedor  \n",
              "0           VILA NOVA            CLAUDIO DA SILVA  \n",
              "1     JARDIM MESQUITA            CLAUDIO DA SILVA  \n",
              "2  ESTANCIA BEIRA MAR  RODINEI GONÇALVES DA COSTA  \n",
              "3      PONTA DA PRAIA     AMANDA GODOY DOS SANTOS  \n",
              "4           APARECIDA        BRUNNO RUTA DA SILVA  "
            ],
            "text/html": [
              "\n",
              "  <div id=\"df-15f30a00-e7a8-4ae3-9adf-5da6a55e2db1\" class=\"colab-df-container\">\n",
              "    <div>\n",
              "<style scoped>\n",
              "    .dataframe tbody tr th:only-of-type {\n",
              "        vertical-align: middle;\n",
              "    }\n",
              "\n",
              "    .dataframe tbody tr th {\n",
              "        vertical-align: top;\n",
              "    }\n",
              "\n",
              "    .dataframe thead th {\n",
              "        text-align: right;\n",
              "    }\n",
              "</style>\n",
              "<table border=\"1\" class=\"dataframe\">\n",
              "  <thead>\n",
              "    <tr style=\"text-align: right;\">\n",
              "      <th></th>\n",
              "      <th>cod_empresa</th>\n",
              "      <th>cnpj_distribuidor</th>\n",
              "      <th>cod_produto</th>\n",
              "      <th>nom_produto</th>\n",
              "      <th>familia</th>\n",
              "      <th>ean</th>\n",
              "      <th>volume</th>\n",
              "      <th>valor</th>\n",
              "      <th>nota_fiscal</th>\n",
              "      <th>dt_venda</th>\n",
              "      <th>ano</th>\n",
              "      <th>mes</th>\n",
              "      <th>tipo_venda</th>\n",
              "      <th>cnpj_cliente</th>\n",
              "      <th>cep_cliente</th>\n",
              "      <th>cidade_cliente</th>\n",
              "      <th>nom_uf</th>\n",
              "      <th>nom_razao</th>\n",
              "      <th>nom_bairro</th>\n",
              "      <th>nom_vendedor</th>\n",
              "    </tr>\n",
              "  </thead>\n",
              "  <tbody>\n",
              "    <tr>\n",
              "      <th>0</th>\n",
              "      <td>PETMAR</td>\n",
              "      <td>1,54094E+13</td>\n",
              "      <td>5063</td>\n",
              "      <td>Alizin 10 mL</td>\n",
              "      <td>CA</td>\n",
              "      <td>7,89752E+12</td>\n",
              "      <td>4</td>\n",
              "      <td>1256</td>\n",
              "      <td>03/01/1970</td>\n",
              "      <td>01/06/2022</td>\n",
              "      <td>2022</td>\n",
              "      <td>6</td>\n",
              "      <td>V</td>\n",
              "      <td>59558881600</td>\n",
              "      <td>11013163</td>\n",
              "      <td>SANTOS</td>\n",
              "      <td>SP</td>\n",
              "      <td>SANDRO HENRIQUE DE CAMARGOS</td>\n",
              "      <td>VILA NOVA</td>\n",
              "      <td>CLAUDIO DA SILVA</td>\n",
              "    </tr>\n",
              "    <tr>\n",
              "      <th>1</th>\n",
              "      <td>PETMAR</td>\n",
              "      <td>1,54094E+13</td>\n",
              "      <td>5063</td>\n",
              "      <td>Alizin 10 mL</td>\n",
              "      <td>CA</td>\n",
              "      <td>7,89752E+12</td>\n",
              "      <td>5</td>\n",
              "      <td>1258</td>\n",
              "      <td>03/01/1970</td>\n",
              "      <td>01/06/2022</td>\n",
              "      <td>2022</td>\n",
              "      <td>6</td>\n",
              "      <td>V</td>\n",
              "      <td>1,03637E+13</td>\n",
              "      <td>12327692</td>\n",
              "      <td>JACAREI</td>\n",
              "      <td>SP</td>\n",
              "      <td>VENEZA PET COMERCIO LTDA</td>\n",
              "      <td>JARDIM MESQUITA</td>\n",
              "      <td>CLAUDIO DA SILVA</td>\n",
              "    </tr>\n",
              "    <tr>\n",
              "      <th>2</th>\n",
              "      <td>PETMAR</td>\n",
              "      <td>1,54094E+13</td>\n",
              "      <td>5063</td>\n",
              "      <td>Alizin 10 mL</td>\n",
              "      <td>CA</td>\n",
              "      <td>7,89752E+12</td>\n",
              "      <td>1</td>\n",
              "      <td>464</td>\n",
              "      <td>03/01/1970</td>\n",
              "      <td>07/06/2022</td>\n",
              "      <td>2022</td>\n",
              "      <td>6</td>\n",
              "      <td>V</td>\n",
              "      <td>4,19201E+13</td>\n",
              "      <td>11740000</td>\n",
              "      <td>ITANHAEM</td>\n",
              "      <td>SP</td>\n",
              "      <td>MEGA PET SHOP ITANHAEM LTDA</td>\n",
              "      <td>ESTANCIA BEIRA MAR</td>\n",
              "      <td>RODINEI GONÇALVES DA COSTA</td>\n",
              "    </tr>\n",
              "    <tr>\n",
              "      <th>3</th>\n",
              "      <td>PETMAR</td>\n",
              "      <td>1,54094E+13</td>\n",
              "      <td>5750</td>\n",
              "      <td>Allerderm Spot On S.I.S - 2 mL - 6 Pipetas</td>\n",
              "      <td>CA</td>\n",
              "      <td>7,89752E+12</td>\n",
              "      <td>1</td>\n",
              "      <td>161</td>\n",
              "      <td>02/01/1970</td>\n",
              "      <td>10/01/2022</td>\n",
              "      <td>2022</td>\n",
              "      <td>1</td>\n",
              "      <td>V</td>\n",
              "      <td>3,30608E+13</td>\n",
              "      <td>11035160</td>\n",
              "      <td>SANTOS</td>\n",
              "      <td>SP</td>\n",
              "      <td>PETLAND PONTA DA PRAIA PET SHOP LTDA</td>\n",
              "      <td>PONTA DA PRAIA</td>\n",
              "      <td>AMANDA GODOY DOS SANTOS</td>\n",
              "    </tr>\n",
              "    <tr>\n",
              "      <th>4</th>\n",
              "      <td>PETMAR</td>\n",
              "      <td>1,54094E+13</td>\n",
              "      <td>5750</td>\n",
              "      <td>Allerderm Spot On S.I.S - 2 mL - 6 Pipetas</td>\n",
              "      <td>CA</td>\n",
              "      <td>7,89752E+12</td>\n",
              "      <td>1</td>\n",
              "      <td>170</td>\n",
              "      <td>02/01/1970</td>\n",
              "      <td>10/01/2022</td>\n",
              "      <td>2022</td>\n",
              "      <td>1</td>\n",
              "      <td>V</td>\n",
              "      <td>1,13747E+13</td>\n",
              "      <td>11035170</td>\n",
              "      <td>SANTOS</td>\n",
              "      <td>SP</td>\n",
              "      <td>PET DA PONTA LTDA - ME</td>\n",
              "      <td>APARECIDA</td>\n",
              "      <td>BRUNNO RUTA DA SILVA</td>\n",
              "    </tr>\n",
              "  </tbody>\n",
              "</table>\n",
              "</div>\n",
              "    <div class=\"colab-df-buttons\">\n",
              "\n",
              "  <div class=\"colab-df-container\">\n",
              "    <button class=\"colab-df-convert\" onclick=\"convertToInteractive('df-15f30a00-e7a8-4ae3-9adf-5da6a55e2db1')\"\n",
              "            title=\"Convert this dataframe to an interactive table.\"\n",
              "            style=\"display:none;\">\n",
              "\n",
              "  <svg xmlns=\"http://www.w3.org/2000/svg\" height=\"24px\" viewBox=\"0 -960 960 960\">\n",
              "    <path d=\"M120-120v-720h720v720H120Zm60-500h600v-160H180v160Zm220 220h160v-160H400v160Zm0 220h160v-160H400v160ZM180-400h160v-160H180v160Zm440 0h160v-160H620v160ZM180-180h160v-160H180v160Zm440 0h160v-160H620v160Z\"/>\n",
              "  </svg>\n",
              "    </button>\n",
              "\n",
              "  <style>\n",
              "    .colab-df-container {\n",
              "      display:flex;\n",
              "      gap: 12px;\n",
              "    }\n",
              "\n",
              "    .colab-df-convert {\n",
              "      background-color: #E8F0FE;\n",
              "      border: none;\n",
              "      border-radius: 50%;\n",
              "      cursor: pointer;\n",
              "      display: none;\n",
              "      fill: #1967D2;\n",
              "      height: 32px;\n",
              "      padding: 0 0 0 0;\n",
              "      width: 32px;\n",
              "    }\n",
              "\n",
              "    .colab-df-convert:hover {\n",
              "      background-color: #E2EBFA;\n",
              "      box-shadow: 0px 1px 2px rgba(60, 64, 67, 0.3), 0px 1px 3px 1px rgba(60, 64, 67, 0.15);\n",
              "      fill: #174EA6;\n",
              "    }\n",
              "\n",
              "    .colab-df-buttons div {\n",
              "      margin-bottom: 4px;\n",
              "    }\n",
              "\n",
              "    [theme=dark] .colab-df-convert {\n",
              "      background-color: #3B4455;\n",
              "      fill: #D2E3FC;\n",
              "    }\n",
              "\n",
              "    [theme=dark] .colab-df-convert:hover {\n",
              "      background-color: #434B5C;\n",
              "      box-shadow: 0px 1px 3px 1px rgba(0, 0, 0, 0.15);\n",
              "      filter: drop-shadow(0px 1px 2px rgba(0, 0, 0, 0.3));\n",
              "      fill: #FFFFFF;\n",
              "    }\n",
              "  </style>\n",
              "\n",
              "    <script>\n",
              "      const buttonEl =\n",
              "        document.querySelector('#df-15f30a00-e7a8-4ae3-9adf-5da6a55e2db1 button.colab-df-convert');\n",
              "      buttonEl.style.display =\n",
              "        google.colab.kernel.accessAllowed ? 'block' : 'none';\n",
              "\n",
              "      async function convertToInteractive(key) {\n",
              "        const element = document.querySelector('#df-15f30a00-e7a8-4ae3-9adf-5da6a55e2db1');\n",
              "        const dataTable =\n",
              "          await google.colab.kernel.invokeFunction('convertToInteractive',\n",
              "                                                    [key], {});\n",
              "        if (!dataTable) return;\n",
              "\n",
              "        const docLinkHtml = 'Like what you see? Visit the ' +\n",
              "          '<a target=\"_blank\" href=https://colab.research.google.com/notebooks/data_table.ipynb>data table notebook</a>'\n",
              "          + ' to learn more about interactive tables.';\n",
              "        element.innerHTML = '';\n",
              "        dataTable['output_type'] = 'display_data';\n",
              "        await google.colab.output.renderOutput(dataTable, element);\n",
              "        const docLink = document.createElement('div');\n",
              "        docLink.innerHTML = docLinkHtml;\n",
              "        element.appendChild(docLink);\n",
              "      }\n",
              "    </script>\n",
              "  </div>\n",
              "\n",
              "\n",
              "    <div id=\"df-7469a193-3338-4e1c-985f-144f9822ce43\">\n",
              "      <button class=\"colab-df-quickchart\" onclick=\"quickchart('df-7469a193-3338-4e1c-985f-144f9822ce43')\"\n",
              "                title=\"Suggest charts\"\n",
              "                style=\"display:none;\">\n",
              "\n",
              "<svg xmlns=\"http://www.w3.org/2000/svg\" height=\"24px\"viewBox=\"0 0 24 24\"\n",
              "     width=\"24px\">\n",
              "    <g>\n",
              "        <path d=\"M19 3H5c-1.1 0-2 .9-2 2v14c0 1.1.9 2 2 2h14c1.1 0 2-.9 2-2V5c0-1.1-.9-2-2-2zM9 17H7v-7h2v7zm4 0h-2V7h2v10zm4 0h-2v-4h2v4z\"/>\n",
              "    </g>\n",
              "</svg>\n",
              "      </button>\n",
              "\n",
              "<style>\n",
              "  .colab-df-quickchart {\n",
              "      --bg-color: #E8F0FE;\n",
              "      --fill-color: #1967D2;\n",
              "      --hover-bg-color: #E2EBFA;\n",
              "      --hover-fill-color: #174EA6;\n",
              "      --disabled-fill-color: #AAA;\n",
              "      --disabled-bg-color: #DDD;\n",
              "  }\n",
              "\n",
              "  [theme=dark] .colab-df-quickchart {\n",
              "      --bg-color: #3B4455;\n",
              "      --fill-color: #D2E3FC;\n",
              "      --hover-bg-color: #434B5C;\n",
              "      --hover-fill-color: #FFFFFF;\n",
              "      --disabled-bg-color: #3B4455;\n",
              "      --disabled-fill-color: #666;\n",
              "  }\n",
              "\n",
              "  .colab-df-quickchart {\n",
              "    background-color: var(--bg-color);\n",
              "    border: none;\n",
              "    border-radius: 50%;\n",
              "    cursor: pointer;\n",
              "    display: none;\n",
              "    fill: var(--fill-color);\n",
              "    height: 32px;\n",
              "    padding: 0;\n",
              "    width: 32px;\n",
              "  }\n",
              "\n",
              "  .colab-df-quickchart:hover {\n",
              "    background-color: var(--hover-bg-color);\n",
              "    box-shadow: 0 1px 2px rgba(60, 64, 67, 0.3), 0 1px 3px 1px rgba(60, 64, 67, 0.15);\n",
              "    fill: var(--button-hover-fill-color);\n",
              "  }\n",
              "\n",
              "  .colab-df-quickchart-complete:disabled,\n",
              "  .colab-df-quickchart-complete:disabled:hover {\n",
              "    background-color: var(--disabled-bg-color);\n",
              "    fill: var(--disabled-fill-color);\n",
              "    box-shadow: none;\n",
              "  }\n",
              "\n",
              "  .colab-df-spinner {\n",
              "    border: 2px solid var(--fill-color);\n",
              "    border-color: transparent;\n",
              "    border-bottom-color: var(--fill-color);\n",
              "    animation:\n",
              "      spin 1s steps(1) infinite;\n",
              "  }\n",
              "\n",
              "  @keyframes spin {\n",
              "    0% {\n",
              "      border-color: transparent;\n",
              "      border-bottom-color: var(--fill-color);\n",
              "      border-left-color: var(--fill-color);\n",
              "    }\n",
              "    20% {\n",
              "      border-color: transparent;\n",
              "      border-left-color: var(--fill-color);\n",
              "      border-top-color: var(--fill-color);\n",
              "    }\n",
              "    30% {\n",
              "      border-color: transparent;\n",
              "      border-left-color: var(--fill-color);\n",
              "      border-top-color: var(--fill-color);\n",
              "      border-right-color: var(--fill-color);\n",
              "    }\n",
              "    40% {\n",
              "      border-color: transparent;\n",
              "      border-right-color: var(--fill-color);\n",
              "      border-top-color: var(--fill-color);\n",
              "    }\n",
              "    60% {\n",
              "      border-color: transparent;\n",
              "      border-right-color: var(--fill-color);\n",
              "    }\n",
              "    80% {\n",
              "      border-color: transparent;\n",
              "      border-right-color: var(--fill-color);\n",
              "      border-bottom-color: var(--fill-color);\n",
              "    }\n",
              "    90% {\n",
              "      border-color: transparent;\n",
              "      border-bottom-color: var(--fill-color);\n",
              "    }\n",
              "  }\n",
              "</style>\n",
              "\n",
              "      <script>\n",
              "        async function quickchart(key) {\n",
              "          const quickchartButtonEl =\n",
              "            document.querySelector('#' + key + ' button');\n",
              "          quickchartButtonEl.disabled = true;  // To prevent multiple clicks.\n",
              "          quickchartButtonEl.classList.add('colab-df-spinner');\n",
              "          try {\n",
              "            const charts = await google.colab.kernel.invokeFunction(\n",
              "                'suggestCharts', [key], {});\n",
              "          } catch (error) {\n",
              "            console.error('Error during call to suggestCharts:', error);\n",
              "          }\n",
              "          quickchartButtonEl.classList.remove('colab-df-spinner');\n",
              "          quickchartButtonEl.classList.add('colab-df-quickchart-complete');\n",
              "        }\n",
              "        (() => {\n",
              "          let quickchartButtonEl =\n",
              "            document.querySelector('#df-7469a193-3338-4e1c-985f-144f9822ce43 button');\n",
              "          quickchartButtonEl.style.display =\n",
              "            google.colab.kernel.accessAllowed ? 'block' : 'none';\n",
              "        })();\n",
              "      </script>\n",
              "    </div>\n",
              "\n",
              "    </div>\n",
              "  </div>\n"
            ],
            "application/vnd.google.colaboratory.intrinsic+json": {
              "type": "dataframe",
              "variable_name": "dados_petmar_consolidado",
              "summary": "{\n  \"name\": \"dados_petmar_consolidado\",\n  \"rows\": 14873,\n  \"fields\": [\n    {\n      \"column\": \"cod_empresa\",\n      \"properties\": {\n        \"dtype\": \"category\",\n        \"num_unique_values\": 1,\n        \"samples\": [\n          \"PETMAR\"\n        ],\n        \"semantic_type\": \"\",\n        \"description\": \"\"\n      }\n    },\n    {\n      \"column\": \"cnpj_distribuidor\",\n      \"properties\": {\n        \"dtype\": \"category\",\n        \"num_unique_values\": 1,\n        \"samples\": [\n          \"1,54094E+13\"\n        ],\n        \"semantic_type\": \"\",\n        \"description\": \"\"\n      }\n    },\n    {\n      \"column\": \"cod_produto\",\n      \"properties\": {\n        \"dtype\": \"number\",\n        \"std\": 123,\n        \"min\": 5043,\n        \"max\": 6004,\n        \"num_unique_values\": 66,\n        \"samples\": [\n          5513\n        ],\n        \"semantic_type\": \"\",\n        \"description\": \"\"\n      }\n    },\n    {\n      \"column\": \"nom_produto\",\n      \"properties\": {\n        \"dtype\": \"category\",\n        \"num_unique_values\": 66,\n        \"samples\": [\n          \"Rilexine 600 Palat\\u00e1vel com 140 Comprimidos\"\n        ],\n        \"semantic_type\": \"\",\n        \"description\": \"\"\n      }\n    },\n    {\n      \"column\": \"familia\",\n      \"properties\": {\n        \"dtype\": \"category\",\n        \"num_unique_values\": 1,\n        \"samples\": [\n          \"CA\"\n        ],\n        \"semantic_type\": \"\",\n        \"description\": \"\"\n      }\n    },\n    {\n      \"column\": \"ean\",\n      \"properties\": {\n        \"dtype\": \"category\",\n        \"num_unique_values\": 1,\n        \"samples\": [\n          \"7,89752E+12\"\n        ],\n        \"semantic_type\": \"\",\n        \"description\": \"\"\n      }\n    },\n    {\n      \"column\": \"volume\",\n      \"properties\": {\n        \"dtype\": \"number\",\n        \"std\": 27,\n        \"min\": -50,\n        \"max\": 880,\n        \"num_unique_values\": 113,\n        \"samples\": [\n          186\n        ],\n        \"semantic_type\": \"\",\n        \"description\": \"\"\n      }\n    },\n    {\n      \"column\": \"valor\",\n      \"properties\": {\n        \"dtype\": \"number\",\n        \"std\": 1449,\n        \"min\": -3735,\n        \"max\": 83204,\n        \"num_unique_values\": 1360,\n        \"samples\": [\n          451\n        ],\n        \"semantic_type\": \"\",\n        \"description\": \"\"\n      }\n    },\n    {\n      \"column\": \"nota_fiscal\",\n      \"properties\": {\n        \"dtype\": \"object\",\n        \"num_unique_values\": 2,\n        \"samples\": [\n          \"02/01/1970\"\n        ],\n        \"semantic_type\": \"\",\n        \"description\": \"\"\n      }\n    },\n    {\n      \"column\": \"dt_venda\",\n      \"properties\": {\n        \"dtype\": \"category\",\n        \"num_unique_values\": 709,\n        \"samples\": [\n          \"10/04/2024\"\n        ],\n        \"semantic_type\": \"\",\n        \"description\": \"\"\n      }\n    },\n    {\n      \"column\": \"ano\",\n      \"properties\": {\n        \"dtype\": \"number\",\n        \"std\": 0,\n        \"min\": 2022,\n        \"max\": 2024,\n        \"num_unique_values\": 3,\n        \"samples\": [\n          2022\n        ],\n        \"semantic_type\": \"\",\n        \"description\": \"\"\n      }\n    },\n    {\n      \"column\": \"mes\",\n      \"properties\": {\n        \"dtype\": \"number\",\n        \"std\": 3,\n        \"min\": 1,\n        \"max\": 12,\n        \"num_unique_values\": 12,\n        \"samples\": [\n          9\n        ],\n        \"semantic_type\": \"\",\n        \"description\": \"\"\n      }\n    },\n    {\n      \"column\": \"tipo_venda\",\n      \"properties\": {\n        \"dtype\": \"category\",\n        \"num_unique_values\": 4,\n        \"samples\": [\n          \"B\"\n        ],\n        \"semantic_type\": \"\",\n        \"description\": \"\"\n      }\n    },\n    {\n      \"column\": \"cnpj_cliente\",\n      \"properties\": {\n        \"dtype\": \"category\",\n        \"num_unique_values\": 802,\n        \"samples\": [\n          \"4,00305E+12\"\n        ],\n        \"semantic_type\": \"\",\n        \"description\": \"\"\n      }\n    },\n    {\n      \"column\": \"cep_cliente\",\n      \"properties\": {\n        \"dtype\": \"number\",\n        \"std\": 1504283,\n        \"min\": 1170128,\n        \"max\": 77460101,\n        \"num_unique_values\": 539,\n        \"samples\": [\n          11035081\n        ],\n        \"semantic_type\": \"\",\n        \"description\": \"\"\n      }\n    },\n    {\n      \"column\": \"cidade_cliente\",\n      \"properties\": {\n        \"dtype\": \"category\",\n        \"num_unique_values\": 21,\n        \"samples\": [\n          \"SANTOS\"\n        ],\n        \"semantic_type\": \"\",\n        \"description\": \"\"\n      }\n    },\n    {\n      \"column\": \"nom_uf\",\n      \"properties\": {\n        \"dtype\": \"category\",\n        \"num_unique_values\": 1,\n        \"samples\": [\n          \"SP\"\n        ],\n        \"semantic_type\": \"\",\n        \"description\": \"\"\n      }\n    },\n    {\n      \"column\": \"nom_razao\",\n      \"properties\": {\n        \"dtype\": \"category\",\n        \"num_unique_values\": 855,\n        \"samples\": [\n          \"J & L RACOES LTDA\"\n        ],\n        \"semantic_type\": \"\",\n        \"description\": \"\"\n      }\n    },\n    {\n      \"column\": \"nom_bairro\",\n      \"properties\": {\n        \"dtype\": \"category\",\n        \"num_unique_values\": 305,\n        \"samples\": [\n          \"SO JORGE\"\n        ],\n        \"semantic_type\": \"\",\n        \"description\": \"\"\n      }\n    },\n    {\n      \"column\": \"nom_vendedor\",\n      \"properties\": {\n        \"dtype\": \"category\",\n        \"num_unique_values\": 25,\n        \"samples\": [\n          \"ANDREIA FREITAS PEREIRA\"\n        ],\n        \"semantic_type\": \"\",\n        \"description\": \"\"\n      }\n    }\n  ]\n}"
            }
          },
          "metadata": {},
          "execution_count": 15
        }
      ]
    },
    {
      "cell_type": "markdown",
      "metadata": {
        "id": "vr1mYB46gi7i"
      },
      "source": [
        "## Adicionar dados no BQ"
      ]
    },
    {
      "cell_type": "code",
      "source": [
        "list(client.list_datasets(project = project_id))"
      ],
      "metadata": {
        "colab": {
          "base_uri": "https://localhost:8080/"
        },
        "id": "COdIZgYbLepo",
        "outputId": "ec2ea8f8-a9f7-49ec-90d8-2f91be5bfbbf"
      },
      "execution_count": null,
      "outputs": [
        {
          "output_type": "execute_result",
          "data": {
            "text/plain": [
              "[<google.cloud.bigquery.dataset.DatasetListItem at 0x785fa15b2090>]"
            ]
          },
          "metadata": {},
          "execution_count": 20
        }
      ]
    },
    {
      "cell_type": "code",
      "metadata": {
        "id": "DnIfNXn-EJaK"
      },
      "source": [
        "# cria conjunto de dados (não rodar pela segunda vez)\n",
        "dataset_ref = bigquery.Dataset(project_id+'.petmar')\n",
        "dataset_ref = client.create_dataset(dataset_ref)"
      ],
      "execution_count": null,
      "outputs": []
    },
    {
      "cell_type": "code",
      "metadata": {
        "id": "KbbnCLtJHH0W"
      },
      "source": [
        "table_ref = dataset_ref.table(\"dados_petmar_consolidado\")"
      ],
      "execution_count": null,
      "outputs": []
    },
    {
      "cell_type": "code",
      "metadata": {
        "colab": {
          "base_uri": "https://localhost:8080/"
        },
        "id": "R7aHS9EhoZ_q",
        "outputId": "b1de9443-182a-4ac6-9dcc-47a56f8c2c72"
      },
      "source": [
        "job = client.load_table_from_dataframe(dados_petmar_consolidado, table_ref,\n",
        "                                       job_config = bigquery.LoadJobConfig(write_disposition=\"WRITE_TRUNCATE\"))\n",
        "job.result()"
      ],
      "execution_count": null,
      "outputs": [
        {
          "output_type": "execute_result",
          "data": {
            "text/plain": [
              "LoadJob<project=projetointeligencianegocios, location=US, id=a0d034ed-953e-422a-81f0-f1eb71c6f396>"
            ]
          },
          "metadata": {},
          "execution_count": 19
        }
      ]
    }
  ]
}