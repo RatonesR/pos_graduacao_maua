{
  "nbformat": 4,
  "nbformat_minor": 0,
  "metadata": {
    "colab": {
      "provenance": []
    },
    "kernelspec": {
      "name": "python3",
      "display_name": "Python 3"
    },
    "language_info": {
      "name": "python"
    }
  },
  "cells": [
    {
      "cell_type": "markdown",
      "metadata": {
        "id": "Ip-ln7NoTna0"
      },
      "source": [
        "# Carga dados covid Big Query (BQ)"
      ]
    },
    {
      "cell_type": "markdown",
      "metadata": {
        "id": "amL0aL-QT3X4"
      },
      "source": [
        "## Carregar módulos"
      ]
    },
    {
      "cell_type": "code",
      "metadata": {
        "id": "kxNNVOHXH5o_"
      },
      "source": [
        "from google.colab import auth\n",
        "from google.cloud import bigquery"
      ],
      "execution_count": null,
      "outputs": []
    },
    {
      "cell_type": "code",
      "metadata": {
        "id": "dy4tAdLXT3c3"
      },
      "source": [
        "import numpy as np\n",
        "import pandas as pd"
      ],
      "execution_count": null,
      "outputs": []
    },
    {
      "cell_type": "markdown",
      "metadata": {
        "id": "-ZOPTbgCNd5p"
      },
      "source": [
        "## Autenticar projeto"
      ]
    },
    {
      "cell_type": "code",
      "metadata": {
        "id": "BumfldPfNd_c"
      },
      "source": [
        "auth.authenticate_user()"
      ],
      "execution_count": null,
      "outputs": []
    },
    {
      "cell_type": "code",
      "metadata": {
        "id": "jlnUxYzANeDs"
      },
      "source": [
        "project_id = 'dadosbrasil-471617'"
      ],
      "execution_count": null,
      "outputs": []
    },
    {
      "cell_type": "code",
      "metadata": {
        "id": "vlFXtHbcNlcn"
      },
      "source": [
        "client = bigquery.Client(project=project_id)"
      ],
      "execution_count": null,
      "outputs": []
    },
    {
      "cell_type": "markdown",
      "metadata": {
        "id": "-4a8IgMBT3gr"
      },
      "source": [
        "## Carregar dados"
      ]
    },
    {
      "cell_type": "markdown",
      "metadata": {
        "id": "VnfWrvXjQ-ZU"
      },
      "source": [
        "- Dados Covid Brasil"
      ]
    },
    {
      "cell_type": "code",
      "metadata": {
        "colab": {
          "base_uri": "https://localhost:8080/"
        },
        "id": "bfb7qKtta_8T",
        "outputId": "342823de-5b8d-406b-f044-0145a078af83"
      },
      "source": [
        "! wget --no-check-certificate --content-disposition 'https://github.com/wcota/covid19br/blob/master/cases-brazil-cities-time.csv.gz?raw=true'"
      ],
      "execution_count": null,
      "outputs": [
        {
          "output_type": "stream",
          "name": "stdout",
          "text": [
            "--2025-09-10 12:10:11--  https://github.com/wcota/covid19br/blob/master/cases-brazil-cities-time.csv.gz?raw=true\n",
            "Resolving github.com (github.com)... 140.82.112.3\n",
            "Connecting to github.com (github.com)|140.82.112.3|:443... connected.\n",
            "HTTP request sent, awaiting response... 302 Found\n",
            "Location: https://github.com/wcota/covid19br/raw/refs/heads/master/cases-brazil-cities-time.csv.gz [following]\n",
            "--2025-09-10 12:10:11--  https://github.com/wcota/covid19br/raw/refs/heads/master/cases-brazil-cities-time.csv.gz\n",
            "Reusing existing connection to github.com:443.\n",
            "HTTP request sent, awaiting response... 302 Found\n",
            "Location: https://raw.githubusercontent.com/wcota/covid19br/refs/heads/master/cases-brazil-cities-time.csv.gz [following]\n",
            "--2025-09-10 12:10:12--  https://raw.githubusercontent.com/wcota/covid19br/refs/heads/master/cases-brazil-cities-time.csv.gz\n",
            "Resolving raw.githubusercontent.com (raw.githubusercontent.com)... 185.199.108.133, 185.199.109.133, 185.199.110.133, ...\n",
            "Connecting to raw.githubusercontent.com (raw.githubusercontent.com)|185.199.108.133|:443... connected.\n",
            "HTTP request sent, awaiting response... 200 OK\n",
            "Length: 11465888 (11M) [application/octet-stream]\n",
            "Saving to: ‘cases-brazil-cities-time.csv.gz’\n",
            "\n",
            "cases-brazil-cities 100%[===================>]  10.93M  --.-KB/s    in 0.03s   \n",
            "\n",
            "2025-09-10 12:10:12 (360 MB/s) - ‘cases-brazil-cities-time.csv.gz’ saved [11465888/11465888]\n",
            "\n"
          ]
        }
      ]
    },
    {
      "cell_type": "code",
      "metadata": {
        "id": "O0cvZDFOb3mL"
      },
      "source": [
        "! gunzip cases-brazil-cities-time.csv.gz"
      ],
      "execution_count": null,
      "outputs": []
    },
    {
      "cell_type": "code",
      "metadata": {
        "id": "GWy73yd4aadf"
      },
      "source": [
        "dados_brasil = pd.read_csv('cases-brazil-cities-time.csv')"
      ],
      "execution_count": null,
      "outputs": []
    },
    {
      "cell_type": "markdown",
      "metadata": {
        "id": "y4rLc7DmRTsb"
      },
      "source": [
        "- Dados censo"
      ]
    },
    {
      "cell_type": "code",
      "metadata": {
        "id": "pUZwpAbZLLqo",
        "colab": {
          "base_uri": "https://localhost:8080/"
        },
        "outputId": "f0d247a1-8de8-4f48-b164-4041b523b3bf"
      },
      "source": [
        "from google.colab import drive\n",
        "drive.mount('/content/drive')"
      ],
      "execution_count": null,
      "outputs": [
        {
          "output_type": "stream",
          "name": "stdout",
          "text": [
            "Mounted at /content/drive\n"
          ]
        }
      ]
    },
    {
      "cell_type": "code",
      "metadata": {
        "id": "xBv5g_1ALvGm"
      },
      "source": [
        "censo_path = '/content/drive/MyDrive/Colab Notebooks/Datasets/pos-graduacao/inteligencia de negocios/dados_municipios_2010.csv'\n",
        "dados_censo = pd.read_csv(censo_path, sep = ';', decimal = ',', encoding = 'latin1')"
      ],
      "execution_count": null,
      "outputs": []
    },
    {
      "cell_type": "markdown",
      "metadata": {
        "id": "WltBdBdIYGHG"
      },
      "source": [
        "## Ajustar dados"
      ]
    },
    {
      "cell_type": "code",
      "metadata": {
        "id": "SSyzaKD5T36E"
      },
      "source": [
        "dados_brasil = dados_brasil[dados_brasil['state'] != 'TOTAL']"
      ],
      "execution_count": null,
      "outputs": []
    },
    {
      "cell_type": "code",
      "metadata": {
        "id": "rWTG9vnTgi0J"
      },
      "source": [
        "cols = ['ibgeID', 'date', 'state', 'city', 'totalCases', 'deaths']"
      ],
      "execution_count": null,
      "outputs": []
    },
    {
      "cell_type": "code",
      "metadata": {
        "id": "MMDDAVCNgi3q"
      },
      "source": [
        "dados_brasil = dados_brasil[cols].reset_index(drop=True)"
      ],
      "execution_count": null,
      "outputs": []
    },
    {
      "cell_type": "markdown",
      "metadata": {
        "id": "vr1mYB46gi7i"
      },
      "source": [
        "## Adicionar dados covid no BQ"
      ]
    },
    {
      "cell_type": "code",
      "metadata": {
        "id": "LJBHPsrTgjCt"
      },
      "source": [
        "# # se criou anteriormente no console\n",
        "# dataset_ref = client.dataset('dados_brasil')"
      ],
      "execution_count": null,
      "outputs": []
    },
    {
      "cell_type": "code",
      "source": [
        "list(client.list_datasets(project = project_id))"
      ],
      "metadata": {
        "colab": {
          "base_uri": "https://localhost:8080/"
        },
        "id": "COdIZgYbLepo",
        "outputId": "ecb64741-8c8d-4f05-ca70-ebb4277170b3"
      },
      "execution_count": null,
      "outputs": [
        {
          "output_type": "execute_result",
          "data": {
            "text/plain": [
              "[<google.cloud.bigquery.dataset.DatasetListItem at 0x7e72b32595b0>,\n",
              " <google.cloud.bigquery.dataset.DatasetListItem at 0x7e72b891af90>]"
            ]
          },
          "metadata": {},
          "execution_count": 16
        }
      ]
    },
    {
      "cell_type": "code",
      "metadata": {
        "id": "DnIfNXn-EJaK"
      },
      "source": [
        "# criar no python\n",
        "dataset_ref = bigquery.Dataset(project_id+'.dados_brasil')\n",
        "dataset_ref = client.create_dataset(dataset_ref)"
      ],
      "execution_count": null,
      "outputs": []
    },
    {
      "cell_type": "code",
      "metadata": {
        "id": "KbbnCLtJHH0W"
      },
      "source": [
        "table_ref = dataset_ref.table(\"dados_brasil_covid\")"
      ],
      "execution_count": null,
      "outputs": []
    },
    {
      "cell_type": "code",
      "metadata": {
        "colab": {
          "base_uri": "https://localhost:8080/"
        },
        "id": "R7aHS9EhoZ_q",
        "outputId": "102fca75-05c6-4d27-ed98-eff41a0a6e9b"
      },
      "source": [
        "job = client.load_table_from_dataframe(dados_brasil, table_ref,\n",
        "                                       job_config = bigquery.LoadJobConfig(write_disposition=\"WRITE_TRUNCATE\"))\n",
        "job.result()"
      ],
      "execution_count": null,
      "outputs": [
        {
          "output_type": "execute_result",
          "data": {
            "text/plain": [
              "LoadJob<project=dadosbrasil-471617, location=US, id=f58d1c40-b327-4941-81b5-1a0ca41bc38c>"
            ]
          },
          "metadata": {},
          "execution_count": 20
        }
      ]
    },
    {
      "cell_type": "markdown",
      "metadata": {
        "id": "qynq_XJ3HIA4"
      },
      "source": [
        "## Adicionar dados do censo no BQ"
      ]
    },
    {
      "cell_type": "code",
      "metadata": {
        "id": "sSLnirScHIVC"
      },
      "source": [
        "table_ref = dataset_ref.table(\"dados_brasil_censo\")"
      ],
      "execution_count": null,
      "outputs": []
    },
    {
      "cell_type": "code",
      "metadata": {
        "id": "R2LLERRWiLLK",
        "colab": {
          "base_uri": "https://localhost:8080/"
        },
        "outputId": "4ad86c8c-b6ff-422c-fa3c-cf0b75976ddb"
      },
      "source": [
        "job = client.load_table_from_dataframe(dados_censo, table_ref,\n",
        "                                       job_config = bigquery.LoadJobConfig(write_disposition=\"WRITE_TRUNCATE\"))\n",
        "job.result()"
      ],
      "execution_count": null,
      "outputs": [
        {
          "output_type": "execute_result",
          "data": {
            "text/plain": [
              "LoadJob<project=dadosbrasil-471617, location=US, id=384766fa-8e2b-4804-96b3-aa4e9316eb1c>"
            ]
          },
          "metadata": {},
          "execution_count": 22
        }
      ]
    },
    {
      "cell_type": "code",
      "metadata": {
        "id": "pAzkzB7ViLQz"
      },
      "source": [
        "# # usar quando gerar processo de atualizacao\n",
        "# job = client.load_table_from_dataframe(players_view, table_ref)\n",
        "# job.result()"
      ],
      "execution_count": null,
      "outputs": []
    },
    {
      "cell_type": "code",
      "source": [
        "query_dados_censo = client.query(\n",
        "    \"\"\"\n",
        "    SELECT *\n",
        "    FROM `dados_brasil.dados_brasil_censo`\n",
        "    LIMIT 10\n",
        "    \"\"\"\n",
        ")\n",
        "\n",
        "query_dados_covid = client.query(\n",
        "    \"\"\"\n",
        "    SELECT *\n",
        "    FROM `dados_brasil.dados_brasil_covid`\n",
        "    LIMIT 10\n",
        "    \"\"\"\n",
        ")"
      ],
      "metadata": {
        "id": "5rjeowQwoxZV"
      },
      "execution_count": null,
      "outputs": []
    },
    {
      "cell_type": "code",
      "source": [
        "dados_censo = query_dados_censo.to_dataframe()\n",
        "dados_covid = query_dados_covid.to_dataframe()"
      ],
      "metadata": {
        "id": "vfOiLzSApMcB"
      },
      "execution_count": null,
      "outputs": []
    },
    {
      "cell_type": "code",
      "source": [
        "dados_censo.sort_values(by = 'ibgeID')"
      ],
      "metadata": {
        "colab": {
          "base_uri": "https://localhost:8080/",
          "height": 363
        },
        "id": "V8WlVSYRpWXa",
        "outputId": "4e33d709-8d2b-4732-cf2a-a2161ccb93e6"
      },
      "execution_count": null,
      "outputs": [
        {
          "output_type": "execute_result",
          "data": {
            "text/plain": [
              "    ibgeID           Municipio  ESPVIDA  E_ANOSESTUDO  T_ANALF18M    RDPC  \\\n",
              "6  1200328              JORDÃO    68.83          5.73       29.87  178.03   \n",
              "2  1300201    ATALAIA DO NORTE    68.95          4.63       37.39  159.21   \n",
              "9  1301951           ITAMARATI    71.32          5.84       40.71  214.95   \n",
              "4  1400704            UIRAMUTÃ    70.95          4.73       31.63  123.16   \n",
              "7  1501105               BAGRE    71.59          5.57       26.08  159.41   \n",
              "8  1501956  CACHOEIRA DO PIRIÁ    71.73          6.67       30.96  130.40   \n",
              "5  1502509              CHAVES    71.15          4.95       28.92  198.83   \n",
              "0  1504505             MELGAÇO    71.57          5.51       39.70  135.21   \n",
              "1  2104081     FERNANDO FALCÃO    68.67          5.75       41.64  106.99   \n",
              "3  2106359      MARAJÁ DO SENA    71.44          6.62       43.53   96.25   \n",
              "\n",
              "    IDHM  \n",
              "6  0.469  \n",
              "2  0.450  \n",
              "9  0.477  \n",
              "4  0.453  \n",
              "7  0.471  \n",
              "8  0.473  \n",
              "5  0.453  \n",
              "0  0.418  \n",
              "1  0.443  \n",
              "3  0.452  "
            ],
            "text/html": [
              "\n",
              "  <div id=\"df-f8e6a19c-6a4f-4ee1-b9ab-a6b66fe4d0b9\" class=\"colab-df-container\">\n",
              "    <div>\n",
              "<style scoped>\n",
              "    .dataframe tbody tr th:only-of-type {\n",
              "        vertical-align: middle;\n",
              "    }\n",
              "\n",
              "    .dataframe tbody tr th {\n",
              "        vertical-align: top;\n",
              "    }\n",
              "\n",
              "    .dataframe thead th {\n",
              "        text-align: right;\n",
              "    }\n",
              "</style>\n",
              "<table border=\"1\" class=\"dataframe\">\n",
              "  <thead>\n",
              "    <tr style=\"text-align: right;\">\n",
              "      <th></th>\n",
              "      <th>ibgeID</th>\n",
              "      <th>Municipio</th>\n",
              "      <th>ESPVIDA</th>\n",
              "      <th>E_ANOSESTUDO</th>\n",
              "      <th>T_ANALF18M</th>\n",
              "      <th>RDPC</th>\n",
              "      <th>IDHM</th>\n",
              "    </tr>\n",
              "  </thead>\n",
              "  <tbody>\n",
              "    <tr>\n",
              "      <th>6</th>\n",
              "      <td>1200328</td>\n",
              "      <td>JORDÃO</td>\n",
              "      <td>68.83</td>\n",
              "      <td>5.73</td>\n",
              "      <td>29.87</td>\n",
              "      <td>178.03</td>\n",
              "      <td>0.469</td>\n",
              "    </tr>\n",
              "    <tr>\n",
              "      <th>2</th>\n",
              "      <td>1300201</td>\n",
              "      <td>ATALAIA DO NORTE</td>\n",
              "      <td>68.95</td>\n",
              "      <td>4.63</td>\n",
              "      <td>37.39</td>\n",
              "      <td>159.21</td>\n",
              "      <td>0.450</td>\n",
              "    </tr>\n",
              "    <tr>\n",
              "      <th>9</th>\n",
              "      <td>1301951</td>\n",
              "      <td>ITAMARATI</td>\n",
              "      <td>71.32</td>\n",
              "      <td>5.84</td>\n",
              "      <td>40.71</td>\n",
              "      <td>214.95</td>\n",
              "      <td>0.477</td>\n",
              "    </tr>\n",
              "    <tr>\n",
              "      <th>4</th>\n",
              "      <td>1400704</td>\n",
              "      <td>UIRAMUTÃ</td>\n",
              "      <td>70.95</td>\n",
              "      <td>4.73</td>\n",
              "      <td>31.63</td>\n",
              "      <td>123.16</td>\n",
              "      <td>0.453</td>\n",
              "    </tr>\n",
              "    <tr>\n",
              "      <th>7</th>\n",
              "      <td>1501105</td>\n",
              "      <td>BAGRE</td>\n",
              "      <td>71.59</td>\n",
              "      <td>5.57</td>\n",
              "      <td>26.08</td>\n",
              "      <td>159.41</td>\n",
              "      <td>0.471</td>\n",
              "    </tr>\n",
              "    <tr>\n",
              "      <th>8</th>\n",
              "      <td>1501956</td>\n",
              "      <td>CACHOEIRA DO PIRIÁ</td>\n",
              "      <td>71.73</td>\n",
              "      <td>6.67</td>\n",
              "      <td>30.96</td>\n",
              "      <td>130.40</td>\n",
              "      <td>0.473</td>\n",
              "    </tr>\n",
              "    <tr>\n",
              "      <th>5</th>\n",
              "      <td>1502509</td>\n",
              "      <td>CHAVES</td>\n",
              "      <td>71.15</td>\n",
              "      <td>4.95</td>\n",
              "      <td>28.92</td>\n",
              "      <td>198.83</td>\n",
              "      <td>0.453</td>\n",
              "    </tr>\n",
              "    <tr>\n",
              "      <th>0</th>\n",
              "      <td>1504505</td>\n",
              "      <td>MELGAÇO</td>\n",
              "      <td>71.57</td>\n",
              "      <td>5.51</td>\n",
              "      <td>39.70</td>\n",
              "      <td>135.21</td>\n",
              "      <td>0.418</td>\n",
              "    </tr>\n",
              "    <tr>\n",
              "      <th>1</th>\n",
              "      <td>2104081</td>\n",
              "      <td>FERNANDO FALCÃO</td>\n",
              "      <td>68.67</td>\n",
              "      <td>5.75</td>\n",
              "      <td>41.64</td>\n",
              "      <td>106.99</td>\n",
              "      <td>0.443</td>\n",
              "    </tr>\n",
              "    <tr>\n",
              "      <th>3</th>\n",
              "      <td>2106359</td>\n",
              "      <td>MARAJÁ DO SENA</td>\n",
              "      <td>71.44</td>\n",
              "      <td>6.62</td>\n",
              "      <td>43.53</td>\n",
              "      <td>96.25</td>\n",
              "      <td>0.452</td>\n",
              "    </tr>\n",
              "  </tbody>\n",
              "</table>\n",
              "</div>\n",
              "    <div class=\"colab-df-buttons\">\n",
              "\n",
              "  <div class=\"colab-df-container\">\n",
              "    <button class=\"colab-df-convert\" onclick=\"convertToInteractive('df-f8e6a19c-6a4f-4ee1-b9ab-a6b66fe4d0b9')\"\n",
              "            title=\"Convert this dataframe to an interactive table.\"\n",
              "            style=\"display:none;\">\n",
              "\n",
              "  <svg xmlns=\"http://www.w3.org/2000/svg\" height=\"24px\" viewBox=\"0 -960 960 960\">\n",
              "    <path d=\"M120-120v-720h720v720H120Zm60-500h600v-160H180v160Zm220 220h160v-160H400v160Zm0 220h160v-160H400v160ZM180-400h160v-160H180v160Zm440 0h160v-160H620v160ZM180-180h160v-160H180v160Zm440 0h160v-160H620v160Z\"/>\n",
              "  </svg>\n",
              "    </button>\n",
              "\n",
              "  <style>\n",
              "    .colab-df-container {\n",
              "      display:flex;\n",
              "      gap: 12px;\n",
              "    }\n",
              "\n",
              "    .colab-df-convert {\n",
              "      background-color: #E8F0FE;\n",
              "      border: none;\n",
              "      border-radius: 50%;\n",
              "      cursor: pointer;\n",
              "      display: none;\n",
              "      fill: #1967D2;\n",
              "      height: 32px;\n",
              "      padding: 0 0 0 0;\n",
              "      width: 32px;\n",
              "    }\n",
              "\n",
              "    .colab-df-convert:hover {\n",
              "      background-color: #E2EBFA;\n",
              "      box-shadow: 0px 1px 2px rgba(60, 64, 67, 0.3), 0px 1px 3px 1px rgba(60, 64, 67, 0.15);\n",
              "      fill: #174EA6;\n",
              "    }\n",
              "\n",
              "    .colab-df-buttons div {\n",
              "      margin-bottom: 4px;\n",
              "    }\n",
              "\n",
              "    [theme=dark] .colab-df-convert {\n",
              "      background-color: #3B4455;\n",
              "      fill: #D2E3FC;\n",
              "    }\n",
              "\n",
              "    [theme=dark] .colab-df-convert:hover {\n",
              "      background-color: #434B5C;\n",
              "      box-shadow: 0px 1px 3px 1px rgba(0, 0, 0, 0.15);\n",
              "      filter: drop-shadow(0px 1px 2px rgba(0, 0, 0, 0.3));\n",
              "      fill: #FFFFFF;\n",
              "    }\n",
              "  </style>\n",
              "\n",
              "    <script>\n",
              "      const buttonEl =\n",
              "        document.querySelector('#df-f8e6a19c-6a4f-4ee1-b9ab-a6b66fe4d0b9 button.colab-df-convert');\n",
              "      buttonEl.style.display =\n",
              "        google.colab.kernel.accessAllowed ? 'block' : 'none';\n",
              "\n",
              "      async function convertToInteractive(key) {\n",
              "        const element = document.querySelector('#df-f8e6a19c-6a4f-4ee1-b9ab-a6b66fe4d0b9');\n",
              "        const dataTable =\n",
              "          await google.colab.kernel.invokeFunction('convertToInteractive',\n",
              "                                                    [key], {});\n",
              "        if (!dataTable) return;\n",
              "\n",
              "        const docLinkHtml = 'Like what you see? Visit the ' +\n",
              "          '<a target=\"_blank\" href=https://colab.research.google.com/notebooks/data_table.ipynb>data table notebook</a>'\n",
              "          + ' to learn more about interactive tables.';\n",
              "        element.innerHTML = '';\n",
              "        dataTable['output_type'] = 'display_data';\n",
              "        await google.colab.output.renderOutput(dataTable, element);\n",
              "        const docLink = document.createElement('div');\n",
              "        docLink.innerHTML = docLinkHtml;\n",
              "        element.appendChild(docLink);\n",
              "      }\n",
              "    </script>\n",
              "  </div>\n",
              "\n",
              "\n",
              "    <div id=\"df-fea846bd-ed0b-4da2-a493-99d88bf08df7\">\n",
              "      <button class=\"colab-df-quickchart\" onclick=\"quickchart('df-fea846bd-ed0b-4da2-a493-99d88bf08df7')\"\n",
              "                title=\"Suggest charts\"\n",
              "                style=\"display:none;\">\n",
              "\n",
              "<svg xmlns=\"http://www.w3.org/2000/svg\" height=\"24px\"viewBox=\"0 0 24 24\"\n",
              "     width=\"24px\">\n",
              "    <g>\n",
              "        <path d=\"M19 3H5c-1.1 0-2 .9-2 2v14c0 1.1.9 2 2 2h14c1.1 0 2-.9 2-2V5c0-1.1-.9-2-2-2zM9 17H7v-7h2v7zm4 0h-2V7h2v10zm4 0h-2v-4h2v4z\"/>\n",
              "    </g>\n",
              "</svg>\n",
              "      </button>\n",
              "\n",
              "<style>\n",
              "  .colab-df-quickchart {\n",
              "      --bg-color: #E8F0FE;\n",
              "      --fill-color: #1967D2;\n",
              "      --hover-bg-color: #E2EBFA;\n",
              "      --hover-fill-color: #174EA6;\n",
              "      --disabled-fill-color: #AAA;\n",
              "      --disabled-bg-color: #DDD;\n",
              "  }\n",
              "\n",
              "  [theme=dark] .colab-df-quickchart {\n",
              "      --bg-color: #3B4455;\n",
              "      --fill-color: #D2E3FC;\n",
              "      --hover-bg-color: #434B5C;\n",
              "      --hover-fill-color: #FFFFFF;\n",
              "      --disabled-bg-color: #3B4455;\n",
              "      --disabled-fill-color: #666;\n",
              "  }\n",
              "\n",
              "  .colab-df-quickchart {\n",
              "    background-color: var(--bg-color);\n",
              "    border: none;\n",
              "    border-radius: 50%;\n",
              "    cursor: pointer;\n",
              "    display: none;\n",
              "    fill: var(--fill-color);\n",
              "    height: 32px;\n",
              "    padding: 0;\n",
              "    width: 32px;\n",
              "  }\n",
              "\n",
              "  .colab-df-quickchart:hover {\n",
              "    background-color: var(--hover-bg-color);\n",
              "    box-shadow: 0 1px 2px rgba(60, 64, 67, 0.3), 0 1px 3px 1px rgba(60, 64, 67, 0.15);\n",
              "    fill: var(--button-hover-fill-color);\n",
              "  }\n",
              "\n",
              "  .colab-df-quickchart-complete:disabled,\n",
              "  .colab-df-quickchart-complete:disabled:hover {\n",
              "    background-color: var(--disabled-bg-color);\n",
              "    fill: var(--disabled-fill-color);\n",
              "    box-shadow: none;\n",
              "  }\n",
              "\n",
              "  .colab-df-spinner {\n",
              "    border: 2px solid var(--fill-color);\n",
              "    border-color: transparent;\n",
              "    border-bottom-color: var(--fill-color);\n",
              "    animation:\n",
              "      spin 1s steps(1) infinite;\n",
              "  }\n",
              "\n",
              "  @keyframes spin {\n",
              "    0% {\n",
              "      border-color: transparent;\n",
              "      border-bottom-color: var(--fill-color);\n",
              "      border-left-color: var(--fill-color);\n",
              "    }\n",
              "    20% {\n",
              "      border-color: transparent;\n",
              "      border-left-color: var(--fill-color);\n",
              "      border-top-color: var(--fill-color);\n",
              "    }\n",
              "    30% {\n",
              "      border-color: transparent;\n",
              "      border-left-color: var(--fill-color);\n",
              "      border-top-color: var(--fill-color);\n",
              "      border-right-color: var(--fill-color);\n",
              "    }\n",
              "    40% {\n",
              "      border-color: transparent;\n",
              "      border-right-color: var(--fill-color);\n",
              "      border-top-color: var(--fill-color);\n",
              "    }\n",
              "    60% {\n",
              "      border-color: transparent;\n",
              "      border-right-color: var(--fill-color);\n",
              "    }\n",
              "    80% {\n",
              "      border-color: transparent;\n",
              "      border-right-color: var(--fill-color);\n",
              "      border-bottom-color: var(--fill-color);\n",
              "    }\n",
              "    90% {\n",
              "      border-color: transparent;\n",
              "      border-bottom-color: var(--fill-color);\n",
              "    }\n",
              "  }\n",
              "</style>\n",
              "\n",
              "      <script>\n",
              "        async function quickchart(key) {\n",
              "          const quickchartButtonEl =\n",
              "            document.querySelector('#' + key + ' button');\n",
              "          quickchartButtonEl.disabled = true;  // To prevent multiple clicks.\n",
              "          quickchartButtonEl.classList.add('colab-df-spinner');\n",
              "          try {\n",
              "            const charts = await google.colab.kernel.invokeFunction(\n",
              "                'suggestCharts', [key], {});\n",
              "          } catch (error) {\n",
              "            console.error('Error during call to suggestCharts:', error);\n",
              "          }\n",
              "          quickchartButtonEl.classList.remove('colab-df-spinner');\n",
              "          quickchartButtonEl.classList.add('colab-df-quickchart-complete');\n",
              "        }\n",
              "        (() => {\n",
              "          let quickchartButtonEl =\n",
              "            document.querySelector('#df-fea846bd-ed0b-4da2-a493-99d88bf08df7 button');\n",
              "          quickchartButtonEl.style.display =\n",
              "            google.colab.kernel.accessAllowed ? 'block' : 'none';\n",
              "        })();\n",
              "      </script>\n",
              "    </div>\n",
              "\n",
              "    </div>\n",
              "  </div>\n"
            ],
            "application/vnd.google.colaboratory.intrinsic+json": {
              "type": "dataframe",
              "summary": "{\n  \"name\": \"dados_censo\",\n  \"rows\": 10,\n  \"fields\": [\n    {\n      \"column\": \"ibgeID\",\n      \"properties\": {\n        \"dtype\": \"Int64\",\n        \"num_unique_values\": 10,\n        \"samples\": [\n          2104081,\n          1300201,\n          1501956\n        ],\n        \"semantic_type\": \"\",\n        \"description\": \"\"\n      }\n    },\n    {\n      \"column\": \"Municipio\",\n      \"properties\": {\n        \"dtype\": \"string\",\n        \"num_unique_values\": 10,\n        \"samples\": [\n          \"FERNANDO FALC\\u00c3O\",\n          \"ATALAIA DO NORTE\",\n          \"CACHOEIRA DO PIRI\\u00c1\"\n        ],\n        \"semantic_type\": \"\",\n        \"description\": \"\"\n      }\n    },\n    {\n      \"column\": \"ESPVIDA\",\n      \"properties\": {\n        \"dtype\": \"number\",\n        \"std\": 1.2659296101196844,\n        \"min\": 68.67,\n        \"max\": 71.73,\n        \"num_unique_values\": 10,\n        \"samples\": [\n          68.67,\n          68.95,\n          71.73\n        ],\n        \"semantic_type\": \"\",\n        \"description\": \"\"\n      }\n    },\n    {\n      \"column\": \"E_ANOSESTUDO\",\n      \"properties\": {\n        \"dtype\": \"number\",\n        \"std\": 0.7001269726112384,\n        \"min\": 4.63,\n        \"max\": 6.67,\n        \"num_unique_values\": 10,\n        \"samples\": [\n          5.75,\n          4.63,\n          6.67\n        ],\n        \"semantic_type\": \"\",\n        \"description\": \"\"\n      }\n    },\n    {\n      \"column\": \"T_ANALF18M\",\n      \"properties\": {\n        \"dtype\": \"number\",\n        \"std\": 6.216165395339978,\n        \"min\": 26.08,\n        \"max\": 43.53,\n        \"num_unique_values\": 10,\n        \"samples\": [\n          41.64,\n          37.39,\n          30.96\n        ],\n        \"semantic_type\": \"\",\n        \"description\": \"\"\n      }\n    },\n    {\n      \"column\": \"RDPC\",\n      \"properties\": {\n        \"dtype\": \"number\",\n        \"std\": 38.90664244915856,\n        \"min\": 96.25,\n        \"max\": 214.95,\n        \"num_unique_values\": 10,\n        \"samples\": [\n          106.99,\n          159.21,\n          130.4\n        ],\n        \"semantic_type\": \"\",\n        \"description\": \"\"\n      }\n    },\n    {\n      \"column\": \"IDHM\",\n      \"properties\": {\n        \"dtype\": \"number\",\n        \"std\": 0.017660061658379838,\n        \"min\": 0.418,\n        \"max\": 0.477,\n        \"num_unique_values\": 9,\n        \"samples\": [\n          0.443,\n          0.45,\n          0.473\n        ],\n        \"semantic_type\": \"\",\n        \"description\": \"\"\n      }\n    }\n  ]\n}"
            }
          },
          "metadata": {},
          "execution_count": 43
        }
      ]
    },
    {
      "cell_type": "code",
      "source": [
        "dados_covid.sort_values(by = 'ibgeID')"
      ],
      "metadata": {
        "colab": {
          "base_uri": "https://localhost:8080/",
          "height": 363
        },
        "id": "f7fZEhG2qjA-",
        "outputId": "c8be343c-d467-4d10-ca9c-62da07f80666"
      },
      "execution_count": null,
      "outputs": [
        {
          "output_type": "execute_result",
          "data": {
            "text/plain": [
              "   ibgeID        date state                              city  totalCases  \\\n",
              "0      11  2023-03-02    RO  CASO SEM LOCALIZAÇÃO DEFINIDA/RO        -106   \n",
              "1      12  2023-03-18    AC  CASO SEM LOCALIZAÇÃO DEFINIDA/AC        -226   \n",
              "2      13  2023-02-25    AM  CASO SEM LOCALIZAÇÃO DEFINIDA/AM        -497   \n",
              "3      13  2023-02-26    AM  CASO SEM LOCALIZAÇÃO DEFINIDA/AM        -641   \n",
              "4      13  2023-03-02    AM  CASO SEM LOCALIZAÇÃO DEFINIDA/AM        -401   \n",
              "5      13  2023-03-11    AM  CASO SEM LOCALIZAÇÃO DEFINIDA/AM       -1757   \n",
              "6      13  2023-03-12    AM  CASO SEM LOCALIZAÇÃO DEFINIDA/AM       -1757   \n",
              "7      13  2023-03-13    AM  CASO SEM LOCALIZAÇÃO DEFINIDA/AM       -1757   \n",
              "8      13  2023-03-14    AM  CASO SEM LOCALIZAÇÃO DEFINIDA/AM       -1757   \n",
              "9      13  2023-03-15    AM  CASO SEM LOCALIZAÇÃO DEFINIDA/AM       -1757   \n",
              "\n",
              "   deaths  \n",
              "0      -1  \n",
              "1      -1  \n",
              "2      -2  \n",
              "3      -2  \n",
              "4      -2  \n",
              "5     -10  \n",
              "6     -10  \n",
              "7     -10  \n",
              "8     -10  \n",
              "9     -10  "
            ],
            "text/html": [
              "\n",
              "  <div id=\"df-c9ac39b1-1048-4215-accb-9c6263906039\" class=\"colab-df-container\">\n",
              "    <div>\n",
              "<style scoped>\n",
              "    .dataframe tbody tr th:only-of-type {\n",
              "        vertical-align: middle;\n",
              "    }\n",
              "\n",
              "    .dataframe tbody tr th {\n",
              "        vertical-align: top;\n",
              "    }\n",
              "\n",
              "    .dataframe thead th {\n",
              "        text-align: right;\n",
              "    }\n",
              "</style>\n",
              "<table border=\"1\" class=\"dataframe\">\n",
              "  <thead>\n",
              "    <tr style=\"text-align: right;\">\n",
              "      <th></th>\n",
              "      <th>ibgeID</th>\n",
              "      <th>date</th>\n",
              "      <th>state</th>\n",
              "      <th>city</th>\n",
              "      <th>totalCases</th>\n",
              "      <th>deaths</th>\n",
              "    </tr>\n",
              "  </thead>\n",
              "  <tbody>\n",
              "    <tr>\n",
              "      <th>0</th>\n",
              "      <td>11</td>\n",
              "      <td>2023-03-02</td>\n",
              "      <td>RO</td>\n",
              "      <td>CASO SEM LOCALIZAÇÃO DEFINIDA/RO</td>\n",
              "      <td>-106</td>\n",
              "      <td>-1</td>\n",
              "    </tr>\n",
              "    <tr>\n",
              "      <th>1</th>\n",
              "      <td>12</td>\n",
              "      <td>2023-03-18</td>\n",
              "      <td>AC</td>\n",
              "      <td>CASO SEM LOCALIZAÇÃO DEFINIDA/AC</td>\n",
              "      <td>-226</td>\n",
              "      <td>-1</td>\n",
              "    </tr>\n",
              "    <tr>\n",
              "      <th>2</th>\n",
              "      <td>13</td>\n",
              "      <td>2023-02-25</td>\n",
              "      <td>AM</td>\n",
              "      <td>CASO SEM LOCALIZAÇÃO DEFINIDA/AM</td>\n",
              "      <td>-497</td>\n",
              "      <td>-2</td>\n",
              "    </tr>\n",
              "    <tr>\n",
              "      <th>3</th>\n",
              "      <td>13</td>\n",
              "      <td>2023-02-26</td>\n",
              "      <td>AM</td>\n",
              "      <td>CASO SEM LOCALIZAÇÃO DEFINIDA/AM</td>\n",
              "      <td>-641</td>\n",
              "      <td>-2</td>\n",
              "    </tr>\n",
              "    <tr>\n",
              "      <th>4</th>\n",
              "      <td>13</td>\n",
              "      <td>2023-03-02</td>\n",
              "      <td>AM</td>\n",
              "      <td>CASO SEM LOCALIZAÇÃO DEFINIDA/AM</td>\n",
              "      <td>-401</td>\n",
              "      <td>-2</td>\n",
              "    </tr>\n",
              "    <tr>\n",
              "      <th>5</th>\n",
              "      <td>13</td>\n",
              "      <td>2023-03-11</td>\n",
              "      <td>AM</td>\n",
              "      <td>CASO SEM LOCALIZAÇÃO DEFINIDA/AM</td>\n",
              "      <td>-1757</td>\n",
              "      <td>-10</td>\n",
              "    </tr>\n",
              "    <tr>\n",
              "      <th>6</th>\n",
              "      <td>13</td>\n",
              "      <td>2023-03-12</td>\n",
              "      <td>AM</td>\n",
              "      <td>CASO SEM LOCALIZAÇÃO DEFINIDA/AM</td>\n",
              "      <td>-1757</td>\n",
              "      <td>-10</td>\n",
              "    </tr>\n",
              "    <tr>\n",
              "      <th>7</th>\n",
              "      <td>13</td>\n",
              "      <td>2023-03-13</td>\n",
              "      <td>AM</td>\n",
              "      <td>CASO SEM LOCALIZAÇÃO DEFINIDA/AM</td>\n",
              "      <td>-1757</td>\n",
              "      <td>-10</td>\n",
              "    </tr>\n",
              "    <tr>\n",
              "      <th>8</th>\n",
              "      <td>13</td>\n",
              "      <td>2023-03-14</td>\n",
              "      <td>AM</td>\n",
              "      <td>CASO SEM LOCALIZAÇÃO DEFINIDA/AM</td>\n",
              "      <td>-1757</td>\n",
              "      <td>-10</td>\n",
              "    </tr>\n",
              "    <tr>\n",
              "      <th>9</th>\n",
              "      <td>13</td>\n",
              "      <td>2023-03-15</td>\n",
              "      <td>AM</td>\n",
              "      <td>CASO SEM LOCALIZAÇÃO DEFINIDA/AM</td>\n",
              "      <td>-1757</td>\n",
              "      <td>-10</td>\n",
              "    </tr>\n",
              "  </tbody>\n",
              "</table>\n",
              "</div>\n",
              "    <div class=\"colab-df-buttons\">\n",
              "\n",
              "  <div class=\"colab-df-container\">\n",
              "    <button class=\"colab-df-convert\" onclick=\"convertToInteractive('df-c9ac39b1-1048-4215-accb-9c6263906039')\"\n",
              "            title=\"Convert this dataframe to an interactive table.\"\n",
              "            style=\"display:none;\">\n",
              "\n",
              "  <svg xmlns=\"http://www.w3.org/2000/svg\" height=\"24px\" viewBox=\"0 -960 960 960\">\n",
              "    <path d=\"M120-120v-720h720v720H120Zm60-500h600v-160H180v160Zm220 220h160v-160H400v160Zm0 220h160v-160H400v160ZM180-400h160v-160H180v160Zm440 0h160v-160H620v160ZM180-180h160v-160H180v160Zm440 0h160v-160H620v160Z\"/>\n",
              "  </svg>\n",
              "    </button>\n",
              "\n",
              "  <style>\n",
              "    .colab-df-container {\n",
              "      display:flex;\n",
              "      gap: 12px;\n",
              "    }\n",
              "\n",
              "    .colab-df-convert {\n",
              "      background-color: #E8F0FE;\n",
              "      border: none;\n",
              "      border-radius: 50%;\n",
              "      cursor: pointer;\n",
              "      display: none;\n",
              "      fill: #1967D2;\n",
              "      height: 32px;\n",
              "      padding: 0 0 0 0;\n",
              "      width: 32px;\n",
              "    }\n",
              "\n",
              "    .colab-df-convert:hover {\n",
              "      background-color: #E2EBFA;\n",
              "      box-shadow: 0px 1px 2px rgba(60, 64, 67, 0.3), 0px 1px 3px 1px rgba(60, 64, 67, 0.15);\n",
              "      fill: #174EA6;\n",
              "    }\n",
              "\n",
              "    .colab-df-buttons div {\n",
              "      margin-bottom: 4px;\n",
              "    }\n",
              "\n",
              "    [theme=dark] .colab-df-convert {\n",
              "      background-color: #3B4455;\n",
              "      fill: #D2E3FC;\n",
              "    }\n",
              "\n",
              "    [theme=dark] .colab-df-convert:hover {\n",
              "      background-color: #434B5C;\n",
              "      box-shadow: 0px 1px 3px 1px rgba(0, 0, 0, 0.15);\n",
              "      filter: drop-shadow(0px 1px 2px rgba(0, 0, 0, 0.3));\n",
              "      fill: #FFFFFF;\n",
              "    }\n",
              "  </style>\n",
              "\n",
              "    <script>\n",
              "      const buttonEl =\n",
              "        document.querySelector('#df-c9ac39b1-1048-4215-accb-9c6263906039 button.colab-df-convert');\n",
              "      buttonEl.style.display =\n",
              "        google.colab.kernel.accessAllowed ? 'block' : 'none';\n",
              "\n",
              "      async function convertToInteractive(key) {\n",
              "        const element = document.querySelector('#df-c9ac39b1-1048-4215-accb-9c6263906039');\n",
              "        const dataTable =\n",
              "          await google.colab.kernel.invokeFunction('convertToInteractive',\n",
              "                                                    [key], {});\n",
              "        if (!dataTable) return;\n",
              "\n",
              "        const docLinkHtml = 'Like what you see? Visit the ' +\n",
              "          '<a target=\"_blank\" href=https://colab.research.google.com/notebooks/data_table.ipynb>data table notebook</a>'\n",
              "          + ' to learn more about interactive tables.';\n",
              "        element.innerHTML = '';\n",
              "        dataTable['output_type'] = 'display_data';\n",
              "        await google.colab.output.renderOutput(dataTable, element);\n",
              "        const docLink = document.createElement('div');\n",
              "        docLink.innerHTML = docLinkHtml;\n",
              "        element.appendChild(docLink);\n",
              "      }\n",
              "    </script>\n",
              "  </div>\n",
              "\n",
              "\n",
              "    <div id=\"df-110dd0dc-475f-4ed6-becb-8c959bbad617\">\n",
              "      <button class=\"colab-df-quickchart\" onclick=\"quickchart('df-110dd0dc-475f-4ed6-becb-8c959bbad617')\"\n",
              "                title=\"Suggest charts\"\n",
              "                style=\"display:none;\">\n",
              "\n",
              "<svg xmlns=\"http://www.w3.org/2000/svg\" height=\"24px\"viewBox=\"0 0 24 24\"\n",
              "     width=\"24px\">\n",
              "    <g>\n",
              "        <path d=\"M19 3H5c-1.1 0-2 .9-2 2v14c0 1.1.9 2 2 2h14c1.1 0 2-.9 2-2V5c0-1.1-.9-2-2-2zM9 17H7v-7h2v7zm4 0h-2V7h2v10zm4 0h-2v-4h2v4z\"/>\n",
              "    </g>\n",
              "</svg>\n",
              "      </button>\n",
              "\n",
              "<style>\n",
              "  .colab-df-quickchart {\n",
              "      --bg-color: #E8F0FE;\n",
              "      --fill-color: #1967D2;\n",
              "      --hover-bg-color: #E2EBFA;\n",
              "      --hover-fill-color: #174EA6;\n",
              "      --disabled-fill-color: #AAA;\n",
              "      --disabled-bg-color: #DDD;\n",
              "  }\n",
              "\n",
              "  [theme=dark] .colab-df-quickchart {\n",
              "      --bg-color: #3B4455;\n",
              "      --fill-color: #D2E3FC;\n",
              "      --hover-bg-color: #434B5C;\n",
              "      --hover-fill-color: #FFFFFF;\n",
              "      --disabled-bg-color: #3B4455;\n",
              "      --disabled-fill-color: #666;\n",
              "  }\n",
              "\n",
              "  .colab-df-quickchart {\n",
              "    background-color: var(--bg-color);\n",
              "    border: none;\n",
              "    border-radius: 50%;\n",
              "    cursor: pointer;\n",
              "    display: none;\n",
              "    fill: var(--fill-color);\n",
              "    height: 32px;\n",
              "    padding: 0;\n",
              "    width: 32px;\n",
              "  }\n",
              "\n",
              "  .colab-df-quickchart:hover {\n",
              "    background-color: var(--hover-bg-color);\n",
              "    box-shadow: 0 1px 2px rgba(60, 64, 67, 0.3), 0 1px 3px 1px rgba(60, 64, 67, 0.15);\n",
              "    fill: var(--button-hover-fill-color);\n",
              "  }\n",
              "\n",
              "  .colab-df-quickchart-complete:disabled,\n",
              "  .colab-df-quickchart-complete:disabled:hover {\n",
              "    background-color: var(--disabled-bg-color);\n",
              "    fill: var(--disabled-fill-color);\n",
              "    box-shadow: none;\n",
              "  }\n",
              "\n",
              "  .colab-df-spinner {\n",
              "    border: 2px solid var(--fill-color);\n",
              "    border-color: transparent;\n",
              "    border-bottom-color: var(--fill-color);\n",
              "    animation:\n",
              "      spin 1s steps(1) infinite;\n",
              "  }\n",
              "\n",
              "  @keyframes spin {\n",
              "    0% {\n",
              "      border-color: transparent;\n",
              "      border-bottom-color: var(--fill-color);\n",
              "      border-left-color: var(--fill-color);\n",
              "    }\n",
              "    20% {\n",
              "      border-color: transparent;\n",
              "      border-left-color: var(--fill-color);\n",
              "      border-top-color: var(--fill-color);\n",
              "    }\n",
              "    30% {\n",
              "      border-color: transparent;\n",
              "      border-left-color: var(--fill-color);\n",
              "      border-top-color: var(--fill-color);\n",
              "      border-right-color: var(--fill-color);\n",
              "    }\n",
              "    40% {\n",
              "      border-color: transparent;\n",
              "      border-right-color: var(--fill-color);\n",
              "      border-top-color: var(--fill-color);\n",
              "    }\n",
              "    60% {\n",
              "      border-color: transparent;\n",
              "      border-right-color: var(--fill-color);\n",
              "    }\n",
              "    80% {\n",
              "      border-color: transparent;\n",
              "      border-right-color: var(--fill-color);\n",
              "      border-bottom-color: var(--fill-color);\n",
              "    }\n",
              "    90% {\n",
              "      border-color: transparent;\n",
              "      border-bottom-color: var(--fill-color);\n",
              "    }\n",
              "  }\n",
              "</style>\n",
              "\n",
              "      <script>\n",
              "        async function quickchart(key) {\n",
              "          const quickchartButtonEl =\n",
              "            document.querySelector('#' + key + ' button');\n",
              "          quickchartButtonEl.disabled = true;  // To prevent multiple clicks.\n",
              "          quickchartButtonEl.classList.add('colab-df-spinner');\n",
              "          try {\n",
              "            const charts = await google.colab.kernel.invokeFunction(\n",
              "                'suggestCharts', [key], {});\n",
              "          } catch (error) {\n",
              "            console.error('Error during call to suggestCharts:', error);\n",
              "          }\n",
              "          quickchartButtonEl.classList.remove('colab-df-spinner');\n",
              "          quickchartButtonEl.classList.add('colab-df-quickchart-complete');\n",
              "        }\n",
              "        (() => {\n",
              "          let quickchartButtonEl =\n",
              "            document.querySelector('#df-110dd0dc-475f-4ed6-becb-8c959bbad617 button');\n",
              "          quickchartButtonEl.style.display =\n",
              "            google.colab.kernel.accessAllowed ? 'block' : 'none';\n",
              "        })();\n",
              "      </script>\n",
              "    </div>\n",
              "\n",
              "    </div>\n",
              "  </div>\n"
            ],
            "application/vnd.google.colaboratory.intrinsic+json": {
              "type": "dataframe",
              "summary": "{\n  \"name\": \"dados_covid\",\n  \"rows\": 10,\n  \"fields\": [\n    {\n      \"column\": \"ibgeID\",\n      \"properties\": {\n        \"dtype\": \"Int64\",\n        \"num_unique_values\": 3,\n        \"samples\": [\n          11,\n          12,\n          13\n        ],\n        \"semantic_type\": \"\",\n        \"description\": \"\"\n      }\n    },\n    {\n      \"column\": \"date\",\n      \"properties\": {\n        \"dtype\": \"object\",\n        \"num_unique_values\": 9,\n        \"samples\": [\n          \"2023-03-14\",\n          \"2023-03-18\",\n          \"2023-03-12\"\n        ],\n        \"semantic_type\": \"\",\n        \"description\": \"\"\n      }\n    },\n    {\n      \"column\": \"state\",\n      \"properties\": {\n        \"dtype\": \"category\",\n        \"num_unique_values\": 3,\n        \"samples\": [\n          \"RO\",\n          \"AC\",\n          \"AM\"\n        ],\n        \"semantic_type\": \"\",\n        \"description\": \"\"\n      }\n    },\n    {\n      \"column\": \"city\",\n      \"properties\": {\n        \"dtype\": \"category\",\n        \"num_unique_values\": 3,\n        \"samples\": [\n          \"CASO SEM LOCALIZA\\u00c7\\u00c3O DEFINIDA/RO\",\n          \"CASO SEM LOCALIZA\\u00c7\\u00c3O DEFINIDA/AC\",\n          \"CASO SEM LOCALIZA\\u00c7\\u00c3O DEFINIDA/AM\"\n        ],\n        \"semantic_type\": \"\",\n        \"description\": \"\"\n      }\n    },\n    {\n      \"column\": \"totalCases\",\n      \"properties\": {\n        \"dtype\": \"Int64\",\n        \"num_unique_values\": 6,\n        \"samples\": [\n          -106,\n          -226,\n          -1757\n        ],\n        \"semantic_type\": \"\",\n        \"description\": \"\"\n      }\n    },\n    {\n      \"column\": \"deaths\",\n      \"properties\": {\n        \"dtype\": \"Int64\",\n        \"num_unique_values\": 3,\n        \"samples\": [\n          -1,\n          -2,\n          -10\n        ],\n        \"semantic_type\": \"\",\n        \"description\": \"\"\n      }\n    }\n  ]\n}"
            }
          },
          "metadata": {},
          "execution_count": 44
        }
      ]
    }
  ]
}